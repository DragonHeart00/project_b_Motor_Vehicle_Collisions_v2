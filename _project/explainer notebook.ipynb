{
 "cells": [
  {
   "attachments": {},
   "cell_type": "markdown",
   "metadata": {},
   "source": [
    "# Social Data Analysis and Visualization 2023"
   ]
  },
  {
   "attachments": {},
   "cell_type": "markdown",
   "metadata": {},
   "source": [
    "### Final Project Explainer notebook"
   ]
  },
  {
   "attachments": {},
   "cell_type": "markdown",
   "metadata": {},
   "source": [
    "#### May 12, 2023"
   ]
  },
  {
   "attachments": {},
   "cell_type": "markdown",
   "metadata": {},
   "source": [
    "- Sulaiman Kasas s195462\n",
    "- Mohamad Malaz Mohamed Alzarrad s180424\n",
    "- Bashar Khaled Bdewi s183356"
   ]
  },
  {
   "attachments": {},
   "cell_type": "markdown",
   "metadata": {},
   "source": [
    "# 1. Motivation"
   ]
  },
  {
   "attachments": {},
   "cell_type": "markdown",
   "metadata": {},
   "source": [
    "## Data sets"
   ]
  },
  {
   "attachments": {},
   "cell_type": "markdown",
   "metadata": {},
   "source": [
    "todo talk about the dataset "
   ]
  },
  {
   "attachments": {},
   "cell_type": "markdown",
   "metadata": {},
   "source": [
    "### The central Idea"
   ]
  },
  {
   "attachments": {},
   "cell_type": "markdown",
   "metadata": {},
   "source": [
    "The central idea is to utilize the comprehensive Motor Vehicle Collisions dataset to analyze collision patterns, identify high-risk locations, and uncover contributing factors in New York City. This project aims to contribute to the Vision Zero initiative by providing actionable insights for policymakers, urban planners, and law enforcement to improve traffic safety."
   ]
  },
  {
   "attachments": {},
   "cell_type": "markdown",
   "metadata": {},
   "source": [
    "## 2. Basic stats"
   ]
  },
  {
   "attachments": {},
   "cell_type": "markdown",
   "metadata": {},
   "source": [
    "#### Data cleaning and preprocessing"
   ]
  },
  {
   "cell_type": "code",
   "execution_count": null,
   "metadata": {},
   "outputs": [],
   "source": [
    "# Import necessary libraries\n",
    "import pandas as pd\n",
    "import numpy as np\n",
    "from pandas import Timestamp\n",
    "import datetime as dt\n",
    "from datetime import datetime\n"
   ]
  },
  {
   "cell_type": "code",
   "execution_count": null,
   "metadata": {},
   "outputs": [],
   "source": [
    "# Load the dataset\n",
    "data = pd.read_csv(\"Motor_Vehicle_Collisions.csv\")\n",
    "data.head(10)"
   ]
  },
  {
   "cell_type": "code",
   "execution_count": null,
   "metadata": {},
   "outputs": [],
   "source": [
    "data.info()"
   ]
  },
  {
   "attachments": {},
   "cell_type": "markdown",
   "metadata": {},
   "source": [
    "#### Let's Start the data cleaning"
   ]
  },
  {
   "attachments": {},
   "cell_type": "markdown",
   "metadata": {},
   "source": [
    "We need to make sure the data is clean before starting our analysis. As a reminder, we should check for:\n",
    "\n",
    "- Duplicate records\n",
    "- Consistent formatting\n",
    "- Missing values\n",
    "- Obviously wrong values (x)"
   ]
  },
  {
   "cell_type": "code",
   "execution_count": null,
   "metadata": {},
   "outputs": [],
   "source": [
    "# Convert 'CRASH DATE' to datetime format\n",
    "data['CRASH DATE'] = pd.to_datetime(data['CRASH DATE'])\n",
    "\n",
    "# Extract hour, day, month, and year from the 'CRASH DATE' column\n",
    "data['HOUR'] = data['CRASH DATE'].dt.hour\n",
    "data['DAY'] = data['CRASH DATE'].dt.day\n",
    "data['MONTH'] = data['CRASH DATE'].dt.month\n",
    "data['YEAR'] = data['CRASH DATE'].dt.year\n",
    "\n",
    "# Fill missing values in the 'BOROUGH' column with 'UNKNOWN'\n",
    "data['BOROUGH'] = data['BOROUGH'].fillna('UNKNOWN')\n",
    "\n",
    "# Fill missing values in the 'ZIP CODE' column with the mode (most frequent value)\n",
    "data['ZIP CODE'] = data['ZIP CODE'].fillna(data['ZIP CODE'].mode().iloc[0])\n",
    "\n",
    "# Fill missing values in 'LATITUDE' and 'LONGITUDE' columns with the mean of each column\n",
    "data['LATITUDE'] = data['LATITUDE'].fillna(data['LATITUDE'].mean())\n",
    "data['LONGITUDE'] = data['LONGITUDE'].fillna(data['LONGITUDE'].mean())\n",
    "\n",
    "# Fill missing values in contributing factor columns with 'UNSPECIFIED'\n",
    "contributing_factor_columns = ['CONTRIBUTING FACTOR VEHICLE 1', 'CONTRIBUTING FACTOR VEHICLE 2', 'CONTRIBUTING FACTOR VEHICLE 3', 'CONTRIBUTING FACTOR VEHICLE 4', 'CONTRIBUTING FACTOR VEHICLE 5']\n",
    "for col in contributing_factor_columns:\n",
    "    data[col] = data[col].fillna('UNSPECIFIED')\n",
    "\n",
    "# Fill missing values in vehicle type columns with 'UNKNOWN'\n",
    "vehicle_type_columns = ['VEHICLE TYPE CODE 1', 'VEHICLE TYPE CODE 2', 'VEHICLE TYPE CODE 3', 'VEHICLE TYPE CODE 4', 'VEHICLE TYPE CODE 5']\n",
    "for col in vehicle_type_columns:\n",
    "    data[col] = data[col].fillna('UNKNOWN')\n",
    "\n",
    "# Verify if there are any missing values left\n",
    "print(data.isna().sum())\n"
   ]
  },
  {
   "cell_type": "code",
   "execution_count": null,
   "metadata": {},
   "outputs": [],
   "source": [
    "# Convert 'CRASH DATE' to datetime format\n",
    "data['CRASH DATE'] = pd.to_datetime(data['CRASH DATE'])\n",
    "\n",
    "# Fill missing values in the 'BOROUGH' column with 'UNKNOWN'\n",
    "data['BOROUGH'] = data['BOROUGH'].fillna('UNKNOWN')\n",
    "\n",
    "# Fill missing values in the 'ZIP CODE' column with the mode (most frequent value)\n",
    "data['ZIP CODE'] = data['ZIP CODE'].fillna(data['ZIP CODE'].mode().iloc[0])\n",
    "\n",
    "# Fill missing values in the 'LATITUDE' and 'LONGITUDE' columns with the mean of each column\n",
    "data['LATITUDE'] = data['LATITUDE'].fillna(data['LATITUDE'].mean())\n",
    "data['LONGITUDE'] = data['LONGITUDE'].fillna(data['LONGITUDE'].mean())\n",
    "\n",
    "# Fill missing values in contributing factor columns with 'UNSPECIFIED'\n",
    "contributing_factor_columns = ['CONTRIBUTING FACTOR VEHICLE 1', 'CONTRIBUTING FACTOR VEHICLE 2', 'CONTRIBUTING FACTOR VEHICLE 3', 'CONTRIBUTING FACTOR VEHICLE 4', 'CONTRIBUTING FACTOR VEHICLE 5']\n",
    "for col in contributing_factor_columns:\n",
    "    data[col] = data[col].fillna('UNSPECIFIED')\n",
    "\n",
    "# Fill missing values in vehicle type columns with 'UNKNOWN'\n",
    "vehicle_type_columns = ['VEHICLE TYPE CODE 1', 'VEHICLE TYPE CODE 2', 'VEHICLE TYPE CODE 3', 'VEHICLE TYPE CODE 4', 'VEHICLE TYPE CODE 5']\n",
    "for col in vehicle_type_columns:\n",
    "    data[col] = data[col].fillna('UNKNOWN')\n",
    "\n",
    "# Drop duplicate rows\n",
    "data = data.drop_duplicates()\n",
    "\n",
    "# Fill missing values in 'NUMBER OF PERSONS INJURED' and 'NUMBER OF PERSONS KILLED' columns with 0\n",
    "data['NUMBER OF PERSONS INJURED'] = data['NUMBER OF PERSONS INJURED'].fillna(0)\n",
    "data['NUMBER OF PERSONS KILLED'] = data['NUMBER OF PERSONS KILLED'].fillna(0)\n",
    "\n",
    "# Create new 'LOCATION' values by combining 'LATITUDE' and 'LONGITUDE' values\n",
    "data['LOCATION'] = list(zip(data['LATITUDE'], data['LONGITUDE']))\n",
    "\n",
    "# Fill missing values in street name columns with 'UNKNOWN'\n",
    "street_name_columns = ['ON STREET NAME', 'CROSS STREET NAME', 'OFF STREET NAME']\n",
    "for col in street_name_columns:\n",
    "    data[col] = data[col].fillna('UNKNOWN')\n",
    "\n",
    "# Drop missing values in 'LOCATION' and 'CONTRIBUTING FACTOR VEHICLE 1' columns\n",
    "data = data[data['LOCATION'].notna()]\n",
    "data = data[data['CONTRIBUTING FACTOR VEHICLE 1'].notna()]\n",
    "\n",
    "# Verify if there are any missing values left\n",
    "print(data.isna().sum())"
   ]
  },
  {
   "attachments": {},
   "cell_type": "markdown",
   "metadata": {},
   "source": [
    "#### Summary statistics"
   ]
  },
  {
   "attachments": {},
   "cell_type": "markdown",
   "metadata": {},
   "source": [
    "## 3.Data Analysis"
   ]
  },
  {
   "attachments": {},
   "cell_type": "markdown",
   "metadata": {},
   "source": [
    "### Describe your data analysis and explain what you've learned about the dataset."
   ]
  },
  {
   "attachments": {},
   "cell_type": "markdown",
   "metadata": {},
   "source": [
    "#### Let's first read in the cleaned dataset."
   ]
  },
  {
   "attachments": {},
   "cell_type": "markdown",
   "metadata": {},
   "source": [
    "### If relevant, talk about your machine-learning."
   ]
  },
  {
   "attachments": {},
   "cell_type": "markdown",
   "metadata": {},
   "source": [
    "## 4. Genre Which genre of data story did you use?"
   ]
  },
  {
   "attachments": {},
   "cell_type": "markdown",
   "metadata": {},
   "source": [
    "### Which tools did you use from each of the 3 categories of Visual Narrative (Figure 7 in Segal and Heer). Why?"
   ]
  },
  {
   "attachments": {},
   "cell_type": "markdown",
   "metadata": {},
   "source": [
    "##### Below we go through the tools we have used from each of the 3 categories of Visual Narrative (figure 7 in Segal and Heer)."
   ]
  },
  {
   "attachments": {},
   "cell_type": "markdown",
   "metadata": {},
   "source": [
    "- Visual Structuring: A consistent visual platform that combines heatmaps, line graphs, bar charts, and pie charts to present different aspects of the data."
   ]
  },
  {
   "attachments": {},
   "cell_type": "markdown",
   "metadata": {},
   "source": [
    "- Highlighting techniques that emphasize specific data aspects, such as heatmaps for high-risk areas and bar graphs for contributing factors.\n",
    "\n"
   ]
  },
  {
   "attachments": {},
   "cell_type": "markdown",
   "metadata": {},
   "source": [
    "- Transition Guidance: Interactive filters in the heatmap to guide the exploration and understanding of the data."
   ]
  },
  {
   "attachments": {},
   "cell_type": "markdown",
   "metadata": {},
   "source": [
    "### Which tools did you use from each of the 3 categories of Narrative Structure (Figure 7 in Segal and Heer). Why?"
   ]
  },
  {
   "attachments": {},
   "cell_type": "markdown",
   "metadata": {},
   "source": [
    "- Ordering: We present the visualizations sequentially, beginning with the heatmap, followed by collision trends, contributing factors, and finally, the top risky intersections."
   ]
  },
  {
   "attachments": {},
   "cell_type": "markdown",
   "metadata": {},
   "source": [
    "- Interactivity: Our interactive heatmap allows users to filter data based on specific criteria, offering them the ability to explore patterns and relationships in the data."
   ]
  },
  {
   "attachments": {},
   "cell_type": "markdown",
   "metadata": {},
   "source": [
    "- Messaging: Each visualization includes clear captions and annotations to explain insights and help the audience understand the data."
   ]
  },
  {
   "attachments": {},
   "cell_type": "markdown",
   "metadata": {},
   "source": [
    "## 5. Visualizations"
   ]
  },
  {
   "attachments": {},
   "cell_type": "markdown",
   "metadata": {},
   "source": [
    "### Explain the visualizations you've chosen."
   ]
  },
  {
   "attachments": {},
   "cell_type": "markdown",
   "metadata": {},
   "source": [
    "### Why are they right for the story you want to tell?"
   ]
  },
  {
   "attachments": {},
   "cell_type": "markdown",
   "metadata": {},
   "source": [
    "## 6. Discussion Think critically about your creation"
   ]
  },
  {
   "attachments": {},
   "cell_type": "markdown",
   "metadata": {},
   "source": [
    "### What went well?\n"
   ]
  },
  {
   "attachments": {},
   "cell_type": "markdown",
   "metadata": {},
   "source": [
    "### What is still missing? What could be improved?, Why?"
   ]
  },
  {
   "attachments": {},
   "cell_type": "markdown",
   "metadata": {},
   "source": [
    "## 7. Contributions"
   ]
  },
  {
   "attachments": {},
   "cell_type": "markdown",
   "metadata": {},
   "source": [
    "Here is an overview of who was main responsible for which parts of the project:"
   ]
  },
  {
   "attachments": {},
   "cell_type": "markdown",
   "metadata": {},
   "source": [
    "- Website:  ()\n",
    "- Article:  ()\n",
    "- Explainer notebook:  ()\n",
    "- Data preprocessing:  ()\n",
    "- Exploratory data analysis:  ()\n",
    "- Data visualizations:  ()"
   ]
  },
  {
   "attachments": {},
   "cell_type": "markdown",
   "metadata": {},
   "source": [
    "## 8. References"
   ]
  }
 ],
 "metadata": {
  "kernelspec": {
   "display_name": "base",
   "language": "python",
   "name": "python3"
  },
  "language_info": {
   "codemirror_mode": {
    "name": "ipython",
    "version": 3
   },
   "file_extension": ".py",
   "mimetype": "text/x-python",
   "name": "python",
   "nbconvert_exporter": "python",
   "pygments_lexer": "ipython3",
   "version": "3.9.13"
  },
  "orig_nbformat": 4
 },
 "nbformat": 4,
 "nbformat_minor": 2
}
